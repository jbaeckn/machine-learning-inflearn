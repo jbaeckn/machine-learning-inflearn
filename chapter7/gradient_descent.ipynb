{
 "cells": [
  {
   "cell_type": "markdown",
   "metadata": {},
   "source": [
    "## Gradient Descent\n",
    "\n",
    "Let's say we have an equation and its derivative : <br><br>\n",
    "$f(x) = x^{2}$ &ensp; &ensp; &ensp; $\\frac{dy}{dx} = 2x$<br><br>\n",
    "\n",
    "We can get the lowest value of x using the equation : <br><br>\n",
    "$x_{new} = x_{old} - \\alpha(2x_{old})$ $\n",
    "\\begin{bmatrix}\n",
    "\\ 1 \\\\\n",
    "\\ 1 - 0.1(2)(1) = 0.8 \\\\\n",
    "\\ 0.8 - 0.1(2)(0.8) = 0.64 \\\\\n",
    "\\ 0.64 - 0.1(2)(0.64) = 0.512 \\\\\n",
    "\\vdots \\\\\n",
    "\\end{bmatrix}$"
   ]
  },
  {
   "cell_type": "code",
   "execution_count": 8,
   "metadata": {},
   "outputs": [],
   "source": [
    "x = 10\n",
    "derivative = []\n",
    "y = []\n",
    "\n",
    "for i in range(1000):\n",
    "    old_value = x\n",
    "    y.append(old_value ** 2)\n",
    "    derivative.append(old_value - 0.01 * 2 * old_value)\n",
    "    x = old_value - 0.01 * 2 * old_value"
   ]
  },
  {
   "cell_type": "code",
   "execution_count": 9,
   "metadata": {},
   "outputs": [
    {
     "data": {
      "text/plain": [
       "[100,\n",
       " 96.04000000000002,\n",
       " 92.23681600000002,\n",
       " 88.5842380864,\n",
       " 85.07630225817857,\n",
       " 81.70728068875471,\n",
       " 78.47167237348003,\n",
       " 75.36419414749021,\n",
       " 72.37977205924958,\n",
       " 69.5135330857033,\n",
       " 66.76079717550945,\n",
       " 64.11706960735928,\n",
       " 61.578033650907855,\n",
       " 59.139543518331905,\n",
       " 56.79761759500595,\n",
       " 54.54843193824372,\n",
       " 52.38831403348927,\n",
       " 50.3137367977631,\n",
       " 48.32131282057168,\n",
       " 46.40778883287704]"
      ]
     },
     "execution_count": 9,
     "metadata": {},
     "output_type": "execute_result"
    }
   ],
   "source": [
    "y[:20]"
   ]
  },
  {
   "cell_type": "markdown",
   "metadata": {},
   "source": [
    "Gradient descent is dependent on the running rate $\\alpha$ and the number of loops. If $\\alpha$ and running rate is too small, we will not be able to reach the minimum value, and it is time-inefficient.\n",
    "\n",
    "Same is true if the parameters are too big."
   ]
  },
  {
   "cell_type": "markdown",
   "metadata": {},
   "source": [
    "## Linear Regression with Gradient Descent"
   ]
  },
  {
   "cell_type": "code",
   "execution_count": 1,
   "metadata": {},
   "outputs": [],
   "source": [
    "import matplotlib.pyplot as plt\n",
    "import pandas as pd\n",
    "import numpy as np"
   ]
  },
  {
   "cell_type": "markdown",
   "metadata": {},
   "source": [
    "### 1. Load Dataset"
   ]
  },
  {
   "cell_type": "code",
   "execution_count": 2,
   "metadata": {},
   "outputs": [
    {
     "data": {
      "text/html": [
       "<div>\n",
       "<style scoped>\n",
       "    .dataframe tbody tr th:only-of-type {\n",
       "        vertical-align: middle;\n",
       "    }\n",
       "\n",
       "    .dataframe tbody tr th {\n",
       "        vertical-align: top;\n",
       "    }\n",
       "\n",
       "    .dataframe thead th {\n",
       "        text-align: right;\n",
       "    }\n",
       "</style>\n",
       "<table border=\"1\" class=\"dataframe\">\n",
       "  <thead>\n",
       "    <tr style=\"text-align: right;\">\n",
       "      <th></th>\n",
       "      <th>X</th>\n",
       "      <th>Y</th>\n",
       "    </tr>\n",
       "  </thead>\n",
       "  <tbody>\n",
       "    <tr>\n",
       "      <th>0</th>\n",
       "      <td>108</td>\n",
       "      <td>392.5</td>\n",
       "    </tr>\n",
       "    <tr>\n",
       "      <th>1</th>\n",
       "      <td>19</td>\n",
       "      <td>46.2</td>\n",
       "    </tr>\n",
       "    <tr>\n",
       "      <th>2</th>\n",
       "      <td>13</td>\n",
       "      <td>15.7</td>\n",
       "    </tr>\n",
       "    <tr>\n",
       "      <th>3</th>\n",
       "      <td>124</td>\n",
       "      <td>422.2</td>\n",
       "    </tr>\n",
       "    <tr>\n",
       "      <th>4</th>\n",
       "      <td>40</td>\n",
       "      <td>119.4</td>\n",
       "    </tr>\n",
       "  </tbody>\n",
       "</table>\n",
       "</div>"
      ],
      "text/plain": [
       "     X      Y\n",
       "0  108  392.5\n",
       "1   19   46.2\n",
       "2   13   15.7\n",
       "3  124  422.2\n",
       "4   40  119.4"
      ]
     },
     "execution_count": 2,
     "metadata": {},
     "output_type": "execute_result"
    }
   ],
   "source": [
    "#create a dataframe\n",
    "df = pd.read_csv('slr06.csv')\n",
    "df.head()"
   ]
  },
  {
   "cell_type": "code",
   "execution_count": 10,
   "metadata": {},
   "outputs": [],
   "source": [
    "#reshape the x_column\n",
    "raw_X = df[\"X\"].values.reshape(-1, 1)\n",
    "y = df[\"Y\"].values"
   ]
  },
  {
   "cell_type": "code",
   "execution_count": 11,
   "metadata": {},
   "outputs": [
    {
     "data": {
      "text/plain": [
       "(63, 1)"
      ]
     },
     "execution_count": 11,
     "metadata": {},
     "output_type": "execute_result"
    }
   ],
   "source": [
    "raw_x.shape"
   ]
  },
  {
   "cell_type": "code",
   "execution_count": 12,
   "metadata": {},
   "outputs": [
    {
     "data": {
      "text/plain": [
       "[<matplotlib.lines.Line2D at 0x11a11ef28>]"
      ]
     },
     "execution_count": 12,
     "metadata": {},
     "output_type": "execute_result"
    },
    {
     "data": {
      "image/png": "[encoded data removed]",
      "text/plain": [
       "<Figure size 720x432 with 1 Axes>"
      ]
     },
     "metadata": {
      "needs_background": "light"
     },
     "output_type": "display_data"
    }
   ],
   "source": [
    "#plot the values\n",
    "plt.figure(figsize=(10,6))\n",
    "plt.plot(raw_X, y, 'o', alpha=0.5)"
   ]
  },
  {
   "cell_type": "code",
   "execution_count": 13,
   "metadata": {},
   "outputs": [
    {
     "data": {
      "text/plain": [
       "(array([[108],\n",
       "        [ 19],\n",
       "        [ 13],\n",
       "        [124],\n",
       "        [ 40]]), array([392.5,  46.2,  15.7, 422.2, 119.4]))"
      ]
     },
     "execution_count": 13,
     "metadata": {},
     "output_type": "execute_result"
    }
   ],
   "source": [
    "#preview the data points\n",
    "raw_X[:5], y[:5]"
   ]
  },
  {
   "cell_type": "code",
   "execution_count": 14,
   "metadata": {},
   "outputs": [
    {
     "data": {
      "text/plain": [
       "array([[  1., 108.],\n",
       "       [  1.,  19.],\n",
       "       [  1.,  13.],\n",
       "       [  1., 124.],\n",
       "       [  1.,  40.]])"
      ]
     },
     "execution_count": 14,
     "metadata": {},
     "output_type": "execute_result"
    }
   ],
   "source": [
    "#fill the first column of raw_X with ones\n",
    "np.ones((len(raw_X),1))[:3]\n",
    "X = np.concatenate( (np.ones((len(raw_X),1)), raw_X ), axis=1)\n",
    "X[:5]"
   ]
  },
  {
   "cell_type": "code",
   "execution_count": 15,
   "metadata": {},
   "outputs": [
    {
     "data": {
      "text/plain": [
       "array([0.73525775, 1.65912667])"
      ]
     },
     "execution_count": 15,
     "metadata": {},
     "output_type": "execute_result"
    }
   ],
   "source": [
    "w = np.random.normal((2,1)) \n",
    "# w = np.array([5,3]) w is theta\n",
    "w"
   ]
  },
  {
   "cell_type": "markdown",
   "metadata": {},
   "source": [
    "**Note**: w[0] is the expected intercept and w[1] is the expected slope. The reason why we have the first column of X filled with ones is because we want to dot product X and w, where the first column of X is 1 and the first column of w is just the expected intercept (multiplication of the two yields just the intercept)"
   ]
  },
  {
   "cell_type": "code",
   "execution_count": 17,
   "metadata": {},
   "outputs": [
    {
     "data": {
      "text/plain": [
       "[<matplotlib.lines.Line2D at 0x11a285ef0>]"
      ]
     },
     "execution_count": 17,
     "metadata": {},
     "output_type": "execute_result"
    },
    {
     "data": {
      "image/png": "[encoded data removed]",
      "text/plain": [
       "<Figure size 720x360 with 1 Axes>"
      ]
     },
     "metadata": {
      "needs_background": "light"
     },
     "output_type": "display_data"
    }
   ],
   "source": [
    "plt.figure(figsize=(10,5))\n",
    "y_predict = np.dot(X, w)\n",
    "plt.plot(raw_X,y,'o', color='blue', alpha=0.5) #raw_X and y are from the dataset we imported\n",
    "plt.plot(raw_X,y_predict)"
   ]
  },
  {
   "cell_type": "code",
   "execution_count": 18,
   "metadata": {},
   "outputs": [
    {
     "data": {
      "text/plain": [
       "array([179.92093824,  32.2586645 ,  22.30390448, 206.46696498,\n",
       "        67.1003246 ,  95.30547801,  38.89517119,  23.96303115,\n",
       "        75.39595796,  17.32652446])"
      ]
     },
     "execution_count": 18,
     "metadata": {},
     "output_type": "execute_result"
    }
   ],
   "source": [
    "y_predict[:10]"
   ]
  },
  {
   "cell_type": "markdown",
   "metadata": {},
   "source": [
    "### 2. Hypothesis and Cost Function\n",
    "\n",
    "Hypothesis function : \n",
    "$$\\large h_{\\theta}(x^{(i)})$$"
   ]
  },
  {
   "cell_type": "code",
   "execution_count": 19,
   "metadata": {},
   "outputs": [],
   "source": [
    "def hypothesis_function(X, theta):\n",
    "    \"\"\"\n",
    "    input: matrix X and theta values\n",
    "    output: expected values of y from matrix X and theta values\n",
    "    \"\"\"\n",
    "    return X.dot(theta)"
   ]
  },
  {
   "cell_type": "code",
   "execution_count": 20,
   "metadata": {},
   "outputs": [
    {
     "data": {
      "text/plain": [
       "array([179.92093824,  32.2586645 ,  22.30390448, 206.46696498,\n",
       "        67.1003246 ,  95.30547801,  38.89517119,  23.96303115,\n",
       "        75.39595796,  17.32652446])"
      ]
     },
     "execution_count": 20,
     "metadata": {},
     "output_type": "execute_result"
    }
   ],
   "source": [
    "#a vector containing expected values of y from random weight values\n",
    "# note that this is the same as y_predict values from section 1\n",
    "h = hypothesis_function(X,w)\n",
    "h[:10]"
   ]
  },
  {
   "cell_type": "markdown",
   "metadata": {},
   "source": [
    "Cost function is as follows : \n",
    "\n",
    "$$\\large J(w_0, w_1) = \\large \\frac{1}{2m} \\sum\\limits_{i=1}^m (h_{\\theta}(x^{(i)}) - y^{(i)})^{2}$$"
   ]
  },
  {
   "cell_type": "code",
   "execution_count": 21,
   "metadata": {},
   "outputs": [],
   "source": [
    "def cost_function(h, y):\n",
    "    \"\"\"\n",
    "    input: hypothesis function and y-values\n",
    "    output: cost_function output\n",
    "    \"\"\"\n",
    "    return (1/(2*len(y))) * np.sum((h-y)**2)"
   ]
  },
  {
   "cell_type": "code",
   "execution_count": 22,
   "metadata": {},
   "outputs": [
    {
     "data": {
      "text/plain": [
       "3218.704634974944"
      ]
     },
     "execution_count": 22,
     "metadata": {},
     "output_type": "execute_result"
    }
   ],
   "source": [
    "h = hypothesis_function(X,w)\n",
    "cost_function(h, y)"
   ]
  },
  {
   "cell_type": "markdown",
   "metadata": {},
   "source": [
    "### 3. Gradient Descent"
   ]
  },
  {
   "cell_type": "code",
   "execution_count": 23,
   "metadata": {},
   "outputs": [],
   "source": [
    "def gradient_descent(X, y, w, alpha, iterations):\n",
    "    theta = w\n",
    "    m = len(y)\n",
    "    \n",
    "    theta_list = [theta.tolist()]\n",
    "    cost = cost_function(hypothesis_function(X, theta), y)\n",
    "    cost_list = [cost]\n",
    "\n",
    "    for i in range(iterations):\n",
    "        t0 = theta[0] - (alpha / m) * np.sum(np.dot(X, theta) - y)\n",
    "        t1 = theta[1] - (alpha / m) * np.sum((np.dot(X, theta) - y) * X[:,1])\n",
    "        theta = np.array([t0, t1])\n",
    "        \n",
    "        if i % 10== 0:\n",
    "            theta_list.append(theta.tolist())\n",
    "            cost = cost_function(hypothesis_function(X, theta), y)\n",
    "            cost_list.append(cost)\n",
    "\n",
    "\n",
    "    return theta, theta_list, cost_list"
   ]
  },
  {
   "cell_type": "code",
   "execution_count": 24,
   "metadata": {},
   "outputs": [
    {
     "name": "stdout",
     "output_type": "stream",
     "text": [
      "theta: [19.87203441  3.41646758]\n",
      "cost: 625.3747557643801\n"
     ]
    }
   ],
   "source": [
    "iterations = 10000\n",
    "alpha = 0.001\n",
    "\n",
    "theta, theta_list, cost_list = gradient_descent(X, y, w, alpha, iterations)\n",
    "cost = cost_function(hypothesis_function(X, theta), y)\n",
    "\n",
    "print(\"theta:\", theta)\n",
    "print('cost:', cost_function(hypothesis_function(X, theta), y))"
   ]
  },
  {
   "cell_type": "code",
   "execution_count": 27,
   "metadata": {},
   "outputs": [],
   "source": [
    "theta_list = np.array(theta_list)"
   ]
  },
  {
   "cell_type": "code",
   "execution_count": 28,
   "metadata": {},
   "outputs": [
    {
     "data": {
      "image/png": "[encoded data removed]",
      "text/plain": [
       "<Figure size 720x360 with 1 Axes>"
      ]
     },
     "metadata": {
      "needs_background": "light"
     },
     "output_type": "display_data"
    }
   ],
   "source": [
    "plt.figure(figsize=(10,5))\n",
    "\n",
    "y_predict_step= np.dot(X, theta_list.transpose())\n",
    "\n",
    "y_predict_step\n",
    "plt.plot(raw_X,y,\"o\", alpha=0.5)\n",
    "for i in range (0,len(cost_list),100):\n",
    "    plt.plot(raw_X,y_predict_step[:,i], label='Line %d'%i)\n",
    "\n",
    "plt.legend(bbox_to_anchor=(1.05, 1), loc=2, borderaxespad=0.)\n",
    "plt.show()"
   ]
  },
  {
   "cell_type": "code",
   "execution_count": null,
   "metadata": {},
   "outputs": [],
   "source": []
  }
 ],
 "metadata": {
  "kernelspec": {
   "display_name": "Python 3",
   "language": "python",
   "name": "python3"
  },
  "language_info": {
   "codemirror_mode": {
    "name": "ipython",
    "version": 3
   },
   "file_extension": ".py",
   "mimetype": "text/x-python",
   "name": "python",
   "nbconvert_exporter": "python",
   "pygments_lexer": "ipython3",
   "version": "3.7.1"
  }
 },
 "nbformat": 4,
 "nbformat_minor": 2
}
